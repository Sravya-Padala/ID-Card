{
  "nbformat": 4,
  "nbformat_minor": 0,
  "metadata": {
    "colab": {
      "provenance": []
    },
    "kernelspec": {
      "name": "python3",
      "display_name": "Python 3"
    },
    "language_info": {
      "name": "python"
    }
  },
  "cells": [
    {
      "cell_type": "code",
      "execution_count": null,
      "metadata": {
        "colab": {
          "base_uri": "https://localhost:8080/"
        },
        "id": "wZsqnCF7TjG6",
        "outputId": "df1b09bb-0c1b-4d2a-b275-c5b1283207a0"
      },
      "outputs": [
        {
          "output_type": "stream",
          "name": "stdout",
          "text": [
            "Collecting reportlab\n",
            "  Downloading reportlab-4.2.0-py3-none-any.whl (1.9 MB)\n",
            "\u001b[2K     \u001b[90m━━━━━━━━━━━━━━━━━━━━━━━━━━━━━━━━━━━━━━━━\u001b[0m \u001b[32m1.9/1.9 MB\u001b[0m \u001b[31m5.2 MB/s\u001b[0m eta \u001b[36m0:00:00\u001b[0m\n",
            "\u001b[?25hRequirement already satisfied: pillow>=9.0.0 in /usr/local/lib/python3.10/dist-packages (from reportlab) (9.4.0)\n",
            "Requirement already satisfied: chardet in /usr/local/lib/python3.10/dist-packages (from reportlab) (5.2.0)\n",
            "Installing collected packages: reportlab\n",
            "Successfully installed reportlab-4.2.0\n"
          ]
        }
      ],
      "source": [
        "!pip install reportlab"
      ]
    },
    {
      "cell_type": "code",
      "source": [
        "import pandas as pd\n",
        "from PIL import Image, ImageDraw, ImageFont\n",
        "from reportlab.pdfgen import canvas"
      ],
      "metadata": {
        "id": "jfr-7zM_TpzA"
      },
      "execution_count": null,
      "outputs": []
    },
    {
      "cell_type": "code",
      "source": [
        "CSV_FILE = 'employees.csv'\n",
        "TEMPLATE_IMAGE = 'ute_id_template.png'\n",
        "PHOTOS_DIR = '/content/drive/MyDrive/Photos/'\n",
        "OUTPUT_PDF = 'employee_ids.pdf'"
      ],
      "metadata": {
        "id": "yzXAiQNnTzk7"
      },
      "execution_count": null,
      "outputs": []
    },
    {
      "cell_type": "code",
      "source": [
        "def create_id_card(template, name, title, photo_path):\n",
        "    # Load the template and photo\n",
        "    photo_path = PHOTOS_DIR + photo_path\n",
        "    template_img = Image.open(template).convert('RGBA')\n",
        "    photo_img = Image.open(photo_path).resize((150, 150))  # Adjust size as needed\n",
        "\n",
        "    # Paste the photo onto the template\n",
        "    template_img.paste(photo_img, (160, 8))  # Adjust position as needed\n",
        "\n",
        "    # Use PIL to write text onto the template\n",
        "    draw = ImageDraw.Draw(template_img)\n",
        "    font = ImageFont.load_default()\n",
        "\n",
        "    # Draw text\n",
        "    draw.text((170, 170), f\"Name: {name}\", font=font, fill='black')\n",
        "    draw.text((170, 180), f\"Title: {title}\", font=font, fill='black')\n",
        "\n",
        "    return template_img"
      ],
      "metadata": {
        "id": "18dWIQZyT6Fr"
      },
      "execution_count": null,
      "outputs": []
    },
    {
      "cell_type": "code",
      "source": [
        "def main():\n",
        "    # Read CSV file\n",
        "    df = pd.read_csv(CSV_FILE)\n",
        "\n",
        "    # Prepare PDF\n",
        "    c = canvas.Canvas(OUTPUT_PDF, pagesize=(640, 400))  # Adjust pagesize to fit the ID card size\n",
        "\n",
        "    count = 1\n",
        "    # Create ID cards\n",
        "    for _, row in df.iterrows():\n",
        "        print(row)\n",
        "        img = create_id_card(TEMPLATE_IMAGE, row['names'], row['title'], row['photos'])\n",
        "        # Save to a temporary image file\n",
        "        img.save(f'temp_id{count}.png', 'PNG')\n",
        "        # Draw this image onto the PDF\n",
        "        c.drawImage(f'temp_id{count}.png', 0, 0, 640, 400)  # Match pagesize\n",
        "        count = count + 1\n",
        "        c.showPage()\n",
        "\n",
        "    # Save the PDF\n",
        "    c.save()\n",
        "    print(\"All ID cards have been generated into a single PDF.\")\n",
        "\n",
        "if __name__ == '__main__':\n",
        "    main()"
      ],
      "metadata": {
        "colab": {
          "base_uri": "https://localhost:8080/"
        },
        "id": "zTipacNIUK8t",
        "outputId": "0e81899e-688a-4d1e-c85b-24a6737e2fb1"
      },
      "execution_count": 8,
      "outputs": [
        {
          "output_type": "stream",
          "name": "stdout",
          "text": [
            "names         Aron\n",
            "title     Director\n",
            "photos       1.png\n",
            "Name: 0, dtype: object\n",
            "names          April\n",
            "title     Supervisor\n",
            "photos         2.png\n",
            "Name: 1, dtype: object\n",
            "names                  Zen\n",
            "title     Senior developer\n",
            "photos               3.png\n",
            "Name: 2, dtype: object\n",
            "names                Sheri\n",
            "title     Junior developer\n",
            "photos               4.png\n",
            "Name: 3, dtype: object\n",
            "names       Alex\n",
            "title     Tester\n",
            "photos     5.png\n",
            "Name: 4, dtype: object\n",
            "names           Jan\n",
            "title     Team Lead\n",
            "photos        6.png\n",
            "Name: 5, dtype: object\n",
            "names       John\n",
            "title     Intern\n",
            "photos     7.png\n",
            "Name: 6, dtype: object\n",
            "names                  Owen\n",
            "title     Managing Director\n",
            "photos                8.png\n",
            "Name: 7, dtype: object\n",
            "names            Charles\n",
            "title     Hiring Manager\n",
            "photos             9.png\n",
            "Name: 8, dtype: object\n",
            "names        Abbetts\n",
            "title     Supervisor\n",
            "photos        10.png\n",
            "Name: 9, dtype: object\n",
            "names       Marks\n",
            "title     Manager\n",
            "photos     11.png\n",
            "Name: 10, dtype: object\n",
            "All ID cards have been generated into a single PDF.\n"
          ]
        }
      ]
    },
    {
      "cell_type": "code",
      "source": [],
      "metadata": {
        "id": "odlVzXB2UYBw"
      },
      "execution_count": null,
      "outputs": []
    }
  ]
}